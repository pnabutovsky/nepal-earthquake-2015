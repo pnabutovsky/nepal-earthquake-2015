{
 "cells": [
  {
   "cell_type": "code",
   "execution_count": null,
   "id": "9f82b7a2-199a-407f-976b-6cff3e511bbb",
   "metadata": {},
   "outputs": [],
   "source": [
    "# Nepal Gorkha 2015 Earthquake Magnitude, Damage, and Impact data\n",
    "# https://www.kaggle.com/datasets/arashnic/earthquake-magnitude-damage-and-impact\n",
    "import pandas as pd\n",
    "import geopandas as gpd\n",
    "from data_manipulations import *\n",
    "\n",
    "# Load the data\n",
    "buildings = pd.read_csv('./csv_building_structure.csv')\n",
    "csv_household_demographics = pd.read_csv('./csv_household_demographics.csv')\n",
    "mapping = pd.read_csv('./mapping.csv')"
   ]
  },
  {
   "cell_type": "code",
   "execution_count": null,
   "id": "42efdebc-c01e-4a81-9dbd-7b15b5d2734d",
   "metadata": {},
   "outputs": [],
   "source": [
    "# Perturb the data\n",
    "from randomized_response import *\n",
    "\n",
    "# gamma = 0.48\n",
    "# gamma = 0.45\n",
    "print(f\"Using gamma = {gamma}\")\n",
    "buildings = perturb(buildings, 'damage_grade', gamma)\n",
    "buildings = perturb(buildings, 'age_building', gamma, 0, 200)\n",
    "buildings = perturb(buildings, 'condition_post_eq', gamma)\n",
    "buildings = perturb(buildings, 'technical_solution_proposed', gamma)\n",
    "csv_household_demographics = perturb(csv_household_demographics, 'income_level_household', gamma)\n",
    "csv_household_demographics = perturb(csv_household_demographics, 'size_household', gamma, 1, 40)\n",
    "csv_household_demographics = perturb(csv_household_demographics, 'gender_household_head', gamma)\n"
   ]
  },
  {
   "cell_type": "code",
   "execution_count": null,
   "id": "4a7d1b97-b8f2-47f0-92e0-070bbc8586b0",
   "metadata": {},
   "outputs": [],
   "source": [
    "# Identify new constructions (age <= 10)\n",
    "buildings['new_construction'] = buildings['age_building'] <= 10\n",
    "buildings['new_construction_p'] = buildings['age_building_p'] <= 10\n",
    "\n",
    "# Calculate household poverty using upper bound on household monthly income range.\n",
    "# Defining poverty as below 20K rupees / person / year. This ends up being slightly more generous than the UN definition of $1.90 / person / day\n",
    "# https://databankfiles.worldbank.org/data/download/poverty/987B9C90-CB9F-4D93-AE8C-750588BF00QA/SM2020/Global_POVEQ_NPL.pdf\n",
    "csv_household_demographics['income_level_household_numeric'] = csv_household_demographics['income_level_household'].apply(numeric_income)\n",
    "csv_household_demographics['income_level_household_numeric_p'] = csv_household_demographics['income_level_household_p'].apply(numeric_income)\n",
    "csv_household_demographics['poverty'] = (csv_household_demographics['income_level_household_numeric'] * 12.0 / csv_household_demographics['size_household']) <= 20000.0\n",
    "csv_household_demographics['poverty_p'] = (csv_household_demographics['income_level_household_numeric_p'] * 12.0 / csv_household_demographics['size_household_p']) <= 20000.0\n",
    "csv_household_demographics['female_headed'] = csv_household_demographics['gender_household_head'] == 'Female'\n",
    "csv_household_demographics['female_headed_p'] = csv_household_demographics['gender_household_head_p'] == 'Female'\n",
    "\n",
    "# Integer values for damage grade\n",
    "buildings['damage_grade_numeric'] = buildings['damage_grade'].apply(numeric_damage_grade)\n",
    "buildings['damage_grade_numeric_p'] = buildings['damage_grade_p'].apply(numeric_damage_grade)\n",
    "\n",
    "# Correlate households and buildings\n",
    "households = csv_household_demographics.merge(mapping[['household_id', 'building_id']].drop_duplicates(), on='household_id')\n",
    "households = households.merge(buildings, on='building_id')"
   ]
  }
 ],
 "metadata": {
  "kernelspec": {
   "display_name": "Python 3 (ipykernel)",
   "language": "python",
   "name": "python3"
  },
  "language_info": {
   "codemirror_mode": {
    "name": "ipython",
    "version": 3
   },
   "file_extension": ".py",
   "mimetype": "text/x-python",
   "name": "python",
   "nbconvert_exporter": "python",
   "pygments_lexer": "ipython3",
   "version": "3.10.6"
  }
 },
 "nbformat": 4,
 "nbformat_minor": 5
}
