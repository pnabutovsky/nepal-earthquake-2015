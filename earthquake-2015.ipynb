{
 "cells": [
  {
   "cell_type": "code",
   "execution_count": null,
   "id": "9f82b7a2-199a-407f-976b-6cff3e511bbb",
   "metadata": {},
   "outputs": [],
   "source": [
    "# Nepal Gorkha 2015 Earthquake Magnitude, Damage, and Impact data\n",
    "# https://www.kaggle.com/datasets/arashnic/earthquake-magnitude-damage-and-impact\n",
    "import pandas as pd\n",
    "import geopandas as gpd\n",
    "from data_manipulations import *\n",
    "\n",
    "# Load the data\n",
    "buildings = pd.read_csv('./csv_building_structure.csv')\n",
    "csv_household_demographics = pd.read_csv('./csv_household_demographics.csv')\n",
    "mapping = pd.read_csv('./mapping.csv')"
   ]
  },
  {
   "cell_type": "code",
   "execution_count": null,
   "id": "42efdebc-c01e-4a81-9dbd-7b15b5d2734d",
   "metadata": {},
   "outputs": [],
   "source": [
    "# Perturb the data\n",
    "from randomized_response import *\n",
    "\n",
    "gamma = 0.48\n",
    "buildings = perturb(buildings, 'damage_grade', gamma)\n",
    "buildings = perturb(buildings, 'age_building', gamma, 0, 200)\n",
    "buildings = perturb(buildings, 'condition_post_eq', gamma)\n",
    "buildings = perturb(buildings, 'technical_solution_proposed', gamma)\n",
    "csv_household_demographics = perturb(csv_household_demographics, 'income_level_household', gamma)\n",
    "csv_household_demographics = perturb(csv_household_demographics, 'size_household', gamma, 1, 40)\n",
    "csv_household_demographics = perturb(csv_household_demographics, 'gender_household_head', gamma)\n"
   ]
  },
  {
   "cell_type": "code",
   "execution_count": null,
   "id": "4a7d1b97-b8f2-47f0-92e0-070bbc8586b0",
   "metadata": {},
   "outputs": [],
   "source": [
    "# Identify new constructions (age <= 10)\n",
    "buildings['new_construction'] = buildings['age_building'] <= 10\n",
    "buildings['new_construction_p'] = buildings['age_building_p'] <= 10\n",
    "\n",
    "# Calculate household poverty using upper bound on household monthly income range.\n",
    "# Defining poverty as below 20K rupees / person / year. This ends up being slightly more generous than the UN definition of $1.90 / person / day\n",
    "# https://databankfiles.worldbank.org/data/download/poverty/987B9C90-CB9F-4D93-AE8C-750588BF00QA/SM2020/Global_POVEQ_NPL.pdf\n",
    "csv_household_demographics['income_level_household_numeric'] = csv_household_demographics['income_level_household'].apply(numeric_income)\n",
    "csv_household_demographics['income_level_household_numeric_p'] = csv_household_demographics['income_level_household_p'].apply(numeric_income)\n",
    "csv_household_demographics['poverty'] = (csv_household_demographics['income_level_household_numeric'] * 12.0 / csv_household_demographics['size_household']) <= 20000.0\n",
    "csv_household_demographics['poverty_p'] = (csv_household_demographics['income_level_household_numeric_p'] * 12.0 / csv_household_demographics['size_household_p']) <= 20000.0\n",
    "\n",
    "# Integer values for damage grade\n",
    "buildings['damage_grade_numeric'] = buildings['damage_grade'].apply(numeric_damage_grade)\n",
    "buildings['damage_grade_numeric_p'] = buildings['damage_grade_p'].apply(numeric_damage_grade)\n",
    "\n",
    "# Correlate households and buildings\n",
    "households = csv_household_demographics.merge(mapping[['household_id', 'building_id']].drop_duplicates(), on='household_id')\n",
    "households = households.merge(buildings, on='building_id')"
   ]
  },
  {
   "cell_type": "code",
   "execution_count": null,
   "id": "a2f27f31-2f82-4099-86ac-dfb1523165a4",
   "metadata": {},
   "outputs": [],
   "source": [
    "# Damage grade for new vs old construction\n",
    "damage_grade_new_construction = histogram(households, 'damage_grade', 'new_construction')\n",
    "histogram_plot(damage_grade_new_construction, 'new_construction')\n",
    "damage_grade_new_construction"
   ]
  },
  {
   "cell_type": "code",
   "execution_count": null,
   "id": "59e197fb-d38d-4f8e-9f44-a61b827f00b0",
   "metadata": {},
   "outputs": [],
   "source": [
    "# Damage grade for new vs old construction - perturbed\n",
    "damage_grade_new_construction_p = histogram(households, 'damage_grade_p', 'new_construction_p')\n",
    "histogram_plot(damage_grade_new_construction_p, 'new_construction_p')\n",
    "damage_grade_new_construction_p"
   ]
  },
  {
   "cell_type": "code",
   "execution_count": null,
   "id": "c36b33b3-daba-457e-b6d6-63f58ad7e543",
   "metadata": {},
   "outputs": [],
   "source": [
    "# Intensity of building damage by household, poverty\n",
    "damage_grade = histogram(households, 'damage_grade', 'poverty')\n",
    "histogram_plot(damage_grade, 'poverty')\n",
    "damage_grade"
   ]
  },
  {
   "cell_type": "code",
   "execution_count": null,
   "id": "fc98b1f9-2d8b-44e7-b329-32ac086555a7",
   "metadata": {},
   "outputs": [],
   "source": [
    "# Intensity of building damage by household, poverty - perturbed\n",
    "damage_grade_p = histogram(households, 'damage_grade_p', 'poverty_p')\n",
    "histogram_plot(damage_grade_p, 'poverty_p')\n",
    "damage_grade_p"
   ]
  },
  {
   "cell_type": "code",
   "execution_count": null,
   "id": "fbc44825-f361-432f-9f86-2841181adb7a",
   "metadata": {},
   "outputs": [],
   "source": [
    "# Condition of building after earthquake by household, poverty\n",
    "condition_post_eq = histogram(households, 'condition_post_eq', 'poverty')\n",
    "histogram_plot(condition_post_eq, 'poverty')\n",
    "condition_post_eq"
   ]
  },
  {
   "cell_type": "code",
   "execution_count": null,
   "id": "492cff43-707a-44d5-867c-db74aa288fa1",
   "metadata": {},
   "outputs": [],
   "source": [
    "# Condition of building after earthquake by household, poverty - perturbed\n",
    "condition_post_eq_p = histogram(households, 'condition_post_eq_p', 'poverty_p')\n",
    "histogram_plot(condition_post_eq_p, 'poverty_p')\n",
    "condition_post_eq_p"
   ]
  },
  {
   "cell_type": "code",
   "execution_count": null,
   "id": "0744402d-0174-47bd-8afc-ec677ad74b4d",
   "metadata": {},
   "outputs": [],
   "source": [
    "# Condition of building after earthquake by household, poverty (female head of household)\n",
    "condition_post_eq_f = histogram(households[households['gender_household_head'] == 'Female'], 'condition_post_eq', 'poverty')\n",
    "histogram_plot(condition_post_eq_f, 'poverty')\n",
    "condition_post_eq_f"
   ]
  },
  {
   "cell_type": "code",
   "execution_count": null,
   "id": "22bf68a3-69de-49e8-b199-b04f7615227c",
   "metadata": {},
   "outputs": [],
   "source": [
    "# Condition of building after earthquake by household, poverty (female head of household) - perturbed\n",
    "condition_post_eq_f_p = histogram(households[households['gender_household_head_p'] == 'Female'], 'condition_post_eq_p', 'poverty_p')\n",
    "histogram_plot(condition_post_eq_f_p, 'poverty_p')\n",
    "condition_post_eq_f_p"
   ]
  },
  {
   "cell_type": "code",
   "execution_count": null,
   "id": "dc75296b-f0eb-418b-b9b0-e8f2bed003a4",
   "metadata": {},
   "outputs": [],
   "source": [
    "# Proposed repairs by household, poverty\n",
    "technical_solution = histogram(households, 'technical_solution_proposed', 'poverty')\n",
    "histogram_plot(technical_solution, 'poverty')\n",
    "technical_solution"
   ]
  },
  {
   "cell_type": "code",
   "execution_count": null,
   "id": "20f21539-e943-4632-8750-838cb0b3568b",
   "metadata": {},
   "outputs": [],
   "source": [
    "# Proposed repairs by household, poverty - perturbed\n",
    "technical_solution_p = histogram(households, 'technical_solution_proposed_p', 'poverty_p')\n",
    "histogram_plot(technical_solution_p, 'poverty_p')\n",
    "technical_solution_p"
   ]
  },
  {
   "cell_type": "code",
   "execution_count": null,
   "id": "f7b1d423-d70f-426b-b209-bbe509f816ae",
   "metadata": {},
   "outputs": [],
   "source": [
    "# Proposed repairs by household, poverty (female head of household)\n",
    "technical_solution_f = histogram(households[households['gender_household_head'] == 'Female'], 'technical_solution_proposed', 'poverty')\n",
    "histogram_plot(technical_solution_f, 'poverty')\n",
    "technical_solution_f"
   ]
  },
  {
   "cell_type": "code",
   "execution_count": null,
   "id": "dcf3ff60-8ac3-498c-81fe-627225b4c2c7",
   "metadata": {},
   "outputs": [],
   "source": [
    "# Proposed repairs by household, poverty (female head of household) - perturbed\n",
    "technical_solution_f_p = histogram(households[households['gender_household_head_p'] == 'Female'], 'technical_solution_proposed_p', 'poverty_p')\n",
    "histogram_plot(technical_solution_f_p, 'poverty_p')\n",
    "technical_solution_f_p"
   ]
  },
  {
   "cell_type": "code",
   "execution_count": null,
   "id": "a071686f-13cf-4185-9357-6b60f092a7d9",
   "metadata": {},
   "outputs": [],
   "source": [
    "# Condition after the earthquake by household, poverty (female head of household)\n",
    "condition_post_eq_with_f = condition_post_eq.join(condition_post_eq_f, rsuffix=' Female HOH')\n",
    "condition_post_eq_with_f.plot.bar(y=['is_poverty', 'isnt_poverty', 'is_poverty Female HOH', 'isnt_poverty Female HOH'])\n"
   ]
  },
  {
   "cell_type": "code",
   "execution_count": null,
   "id": "8186ef2e-15a6-404c-b5be-3857cf39abcb",
   "metadata": {},
   "outputs": [],
   "source": [
    "# Condition after the earthquake by household, poverty (female head of household) - perturbed\n",
    "condition_post_eq_with_f_p = condition_post_eq_p.join(condition_post_eq_f_p, rsuffix=' Female HOH')\n",
    "condition_post_eq_with_f_p.plot.bar(y=['is_poverty_p', 'isnt_poverty_p', 'is_poverty_p Female HOH', 'isnt_poverty_p Female HOH'])\n"
   ]
  },
  {
   "cell_type": "code",
   "execution_count": null,
   "id": "c73d6b47-8155-4d1f-bbc5-ceb5d2f93b7d",
   "metadata": {},
   "outputs": [],
   "source": [
    "# Load and clean geo data\n",
    "geojson = gpd.read_file('./municipality.geojson')\n",
    "ward_vdcmun_district_name_mapping = pd.read_csv('./ward_vdcmun_district_name_mapping.csv')\n",
    "ward_vdcmun_district_name_mapping['vdc'] = ward_vdcmun_district_name_mapping['vdcmun_name'].str.replace('Rural Municipality', '')\n",
    "ward_vdcmun_district_name_mapping['vdc'] = ward_vdcmun_district_name_mapping['vdc'].str.replace('Municipality', '')\n",
    "ward_vdcmun_district_name_mapping['vdc'] = ward_vdcmun_district_name_mapping['vdc'].str.replace('Sub-Metropolitan City', '')\n",
    "ward_vdcmun_district_name_mapping['vdc'] = ward_vdcmun_district_name_mapping['vdc'].str.strip()"
   ]
  },
  {
   "cell_type": "code",
   "execution_count": null,
   "id": "a3fdbd60-a0d7-41a0-85ef-64c67217afc3",
   "metadata": {},
   "outputs": [],
   "source": [
    "vdcs = ward_vdcmun_district_name_mapping[['vdcmun_id', 'vdc', 'district_id', 'district_name']].drop_duplicates()\n",
    "geojson = geojson.merge(vdcs, how='left', left_on='GaPa_NaPa', right_on='vdc')"
   ]
  },
  {
   "cell_type": "code",
   "execution_count": null,
   "id": "4913b3ba-abe5-45d0-a21b-ac7c34daee07",
   "metadata": {},
   "outputs": [],
   "source": [
    "# Choropleth of new construction\n",
    "new_construction_for_vdc = buildings[buildings['new_construction']].groupby('vdcmun_id').size().to_frame().reset_index()\n",
    "new_construction_for_vdc.rename(columns={0:'new_construction'}, inplace=True)\n",
    "\n",
    "geojson = geojson.merge(new_construction_for_vdc[['vdcmun_id', 'new_construction']].drop_duplicates(), how='left', on=\"vdcmun_id\")\n",
    "geojson['new_construction'] = geojson['new_construction'].fillna(0)\n",
    "geojson.plot(column='new_construction')\n"
   ]
  },
  {
   "cell_type": "code",
   "execution_count": null,
   "id": "a050f5d4-615a-450d-87f8-c918cdb9cd8c",
   "metadata": {},
   "outputs": [],
   "source": [
    "# Choropleth of new construction - perturbed\n",
    "new_construction_for_vdc_p = buildings[buildings['new_construction_p']].groupby('vdcmun_id').size().to_frame().reset_index()\n",
    "new_construction_for_vdc_p.rename(columns={0:'new_construction_p'}, inplace=True)\n",
    "\n",
    "geojson = geojson.merge(new_construction_for_vdc_p[['vdcmun_id', 'new_construction_p']].drop_duplicates(), how='left', on=\"vdcmun_id\")\n",
    "geojson['new_construction_p'] = geojson['new_construction_p'].fillna(0)\n",
    "geojson.plot(column='new_construction_p')\n"
   ]
  },
  {
   "cell_type": "code",
   "execution_count": null,
   "id": "cb827a53-98d7-463c-87ae-02a3b2d92eaf",
   "metadata": {},
   "outputs": [],
   "source": [
    "# Choropleth of intensity of earthquake damage\n",
    "damage_for_vdc = buildings.groupby(['vdcmun_id'])['damage_grade_numeric'].mean().to_frame().reset_index()\n",
    "# damage_for_vdc.rename(columns={0:'damage'}, inplace=True)\n",
    "\n",
    "geojson = geojson.merge(damage_for_vdc[['vdcmun_id', 'damage_grade_numeric']].drop_duplicates(), how='left', on=\"vdcmun_id\")\n",
    "geojson['damage_grade_numeric'] = geojson['damage_grade_numeric'].fillna(0)\n",
    "geojson.plot(column='damage_grade_numeric')"
   ]
  },
  {
   "cell_type": "code",
   "execution_count": null,
   "id": "0751802e-ea4e-4a7b-a5e5-518c4b103a3b",
   "metadata": {},
   "outputs": [],
   "source": [
    "# Choropleth of intensity of earthquake damage - perturbed\n",
    "damage_for_vdc_p = buildings.groupby(['vdcmun_id'])['damage_grade_numeric_p'].mean().to_frame().reset_index()\n",
    "# damage_for_vdc.rename(columns={0:'damage'}, inplace=True)\n",
    "\n",
    "geojson = geojson.merge(damage_for_vdc_p[['vdcmun_id', 'damage_grade_numeric_p']].drop_duplicates(), how='left', on=\"vdcmun_id\")\n",
    "geojson['damage_grade_numeric_p'] = geojson['damage_grade_numeric_p'].fillna(0)\n",
    "geojson.plot(column='damage_grade_numeric_p')"
   ]
  },
  {
   "cell_type": "code",
   "execution_count": null,
   "id": "c2f15bc8-5970-47ff-8024-df4fc6d68b18",
   "metadata": {},
   "outputs": [],
   "source": [
    "# Choropleth of prevalence of poverty\n",
    "poverty_by_vdc = households.groupby(['vdcmun_id_x'])['poverty'].size().to_frame().reset_index()\n",
    "geojson = geojson.merge(poverty_by_vdc, how='left', left_on='vdcmun_id', right_on='vdcmun_id_x')\n",
    "geojson['poverty'] = geojson['poverty'].fillna(0)\n",
    "geojson.plot(column='poverty')\n"
   ]
  },
  {
   "cell_type": "code",
   "execution_count": null,
   "id": "b41109bc-c646-4ecb-ad2c-4bcaa070b302",
   "metadata": {},
   "outputs": [],
   "source": [
    "# Choropleth of prevalence of poverty - perturbed\n",
    "poverty_by_vdc_p = households.groupby(['vdcmun_id_x'])['poverty_p'].size().to_frame().reset_index()\n",
    "geojson = geojson.merge(poverty_by_vdc_p, how='left', left_on='vdcmun_id', right_on='vdcmun_id_x')\n",
    "geojson['poverty_p'] = geojson['poverty_p'].fillna(0)\n",
    "geojson.plot(column='poverty_p')\n"
   ]
  },
  {
   "cell_type": "code",
   "execution_count": null,
   "id": "8ed01d85-ef01-46ba-9b0f-e28e4d85bca9",
   "metadata": {},
   "outputs": [],
   "source": []
  }
 ],
 "metadata": {
  "kernelspec": {
   "display_name": "Python 3 (ipykernel)",
   "language": "python",
   "name": "python3"
  },
  "language_info": {
   "codemirror_mode": {
    "name": "ipython",
    "version": 3
   },
   "file_extension": ".py",
   "mimetype": "text/x-python",
   "name": "python",
   "nbconvert_exporter": "python",
   "pygments_lexer": "ipython3",
   "version": "3.10.6"
  }
 },
 "nbformat": 4,
 "nbformat_minor": 5
}
