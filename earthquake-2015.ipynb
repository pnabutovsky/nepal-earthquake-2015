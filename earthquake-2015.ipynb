{
 "cells": [
  {
   "cell_type": "code",
   "execution_count": null,
   "id": "9f82b7a2-199a-407f-976b-6cff3e511bbb",
   "metadata": {},
   "outputs": [],
   "source": [
    "# Nepal Gorkha 2015 Earthquake Magnitude, Damage, and Impact data\n",
    "# https://www.kaggle.com/datasets/arashnic/earthquake-magnitude-damage-and-impact\n",
    "import pandas as pd\n",
    "import geopandas as gpd\n",
    "from data_manipulations import * \n",
    "\n",
    "# Load the data\n",
    "buildings = pd.read_csv('./csv_building_structure.csv')\n",
    "csv_household_demographics = pd.read_csv('./csv_household_demographics.csv')\n",
    "csv_household_resources = pd.read_csv('./csv_household_resources.csv')\n",
    "mapping = pd.read_csv('./mapping.csv')"
   ]
  },
  {
   "cell_type": "code",
   "execution_count": null,
   "id": "4a7d1b97-b8f2-47f0-92e0-070bbc8586b0",
   "metadata": {},
   "outputs": [],
   "source": [
    "# Identify new constructions (age <= 10)\n",
    "buildings['new_construction'] = buildings['age_building'] <= 10\n",
    "\n",
    "# Calculate household poverty using upper bound on household monthly income range.\n",
    "# Defining poverty as below 20K rupees / person / year. This ends up being slightly more generous than the UN definition of $1.90 / person / day\n",
    "# https://databankfiles.worldbank.org/data/download/poverty/987B9C90-CB9F-4D93-AE8C-750588BF00QA/SM2020/Global_POVEQ_NPL.pdf\n",
    "csv_household_demographics['income_level_household_numeric'] = csv_household_demographics['income_level_household'].apply(numeric_income)\n",
    "csv_household_demographics['poverty'] = (csv_household_demographics['income_level_household_numeric'] * 12.0 / csv_household_demographics['size_household']) <= 20000.0\n",
    "\n",
    "# Correlate households and buildings\n",
    "# buildings = csv_building_structure.merge(csv_building_damage_assessment, on='building_id')\n",
    "households = csv_household_demographics.merge(mapping[['household_id', 'building_id']].drop_duplicates(), on='household_id')\n",
    "households = households.merge(buildings, on='building_id')"
   ]
  },
  {
   "cell_type": "code",
   "execution_count": null,
   "id": "a2f27f31-2f82-4099-86ac-dfb1523165a4",
   "metadata": {},
   "outputs": [],
   "source": [
    "# Damage grade for new vs old construction\n",
    "damage_grade_new_construction = histogram(households, 'damage_grade', 'new_construction')\n",
    "histogram_plot(damage_grade_new_construction, 'damage_grade', 'new_construction')\n",
    "damage_grade_new_construction"
   ]
  },
  {
   "cell_type": "code",
   "execution_count": null,
   "id": "c36b33b3-daba-457e-b6d6-63f58ad7e543",
   "metadata": {},
   "outputs": [],
   "source": [
    "# Intensity of building damage by household, poverty\n",
    "damage_grade = histogram(households, 'damage_grade', 'poverty')\n",
    "histogram_plot(damage_grade, 'damage_grade', 'poverty')\n",
    "damage_grade"
   ]
  },
  {
   "cell_type": "code",
   "execution_count": null,
   "id": "6004f2f1-a70a-4535-bda0-065477ae8e06",
   "metadata": {},
   "outputs": [],
   "source": []
  },
  {
   "cell_type": "code",
   "execution_count": null,
   "id": "fbc44825-f361-432f-9f86-2841181adb7a",
   "metadata": {},
   "outputs": [],
   "source": [
    "# Condition of building after earthquake by household, poverty\n",
    "condition_post_eq = histogram(households, 'condition_post_eq', 'poverty')\n",
    "histogram_plot(condition_post_eq, 'condition_post_eq', 'poverty')\n",
    "condition_post_eq"
   ]
  },
  {
   "cell_type": "code",
   "execution_count": null,
   "id": "0744402d-0174-47bd-8afc-ec677ad74b4d",
   "metadata": {},
   "outputs": [],
   "source": [
    "# Condition of building after earthquake by household, poverty (female head of household)\n",
    "condition_post_eq_f = histogram(households[households['gender_household_head'] == 'Female'], 'condition_post_eq', 'poverty')\n",
    "histogram_plot(condition_post_eq_f, 'condition_post_eq', 'poverty')\n",
    "condition_post_eq_f"
   ]
  },
  {
   "cell_type": "code",
   "execution_count": null,
   "id": "dc75296b-f0eb-418b-b9b0-e8f2bed003a4",
   "metadata": {},
   "outputs": [],
   "source": [
    "# Proposed repairs by household, poverty\n",
    "technical_solution = histogram(households, 'technical_solution_proposed', 'poverty')\n",
    "histogram_plot(technical_solution, 'technical_solution_proposed', 'poverty')\n",
    "technical_solution"
   ]
  },
  {
   "cell_type": "code",
   "execution_count": null,
   "id": "f7b1d423-d70f-426b-b209-bbe509f816ae",
   "metadata": {},
   "outputs": [],
   "source": [
    "# Proposed repairs by household, poverty (female head of household)\n",
    "technical_solution_f = histogram(households[households['gender_household_head'] == 'Female'], 'technical_solution_proposed', 'poverty')\n",
    "histogram_plot(technical_solution_f, 'technical_solution_proposed', 'poverty')\n",
    "technical_solution_f"
   ]
  },
  {
   "cell_type": "code",
   "execution_count": null,
   "id": "a071686f-13cf-4185-9357-6b60f092a7d9",
   "metadata": {},
   "outputs": [],
   "source": [
    "condition_post_eq_with_f = condition_post_eq.join(condition_post_eq_f, rsuffix=' Female HOH')\n",
    "# condition_post_eq_with_f.plot.bar(y=['Poor', 'Not Poor', 'Poor Female HOH', 'Not Poor Female HOH'])\n",
    "condition_post_eq_with_f.plot.bar(y=['condition_post_eq_poverty_true_percentage', 'condition_post_eq_poverty_false_percentage', 'condition_post_eq_poverty_true_percentage Female HOH', 'condition_post_eq_poverty_false_percentage Female HOH'])\n"
   ]
  },
  {
   "cell_type": "code",
   "execution_count": null,
   "id": "c73d6b47-8155-4d1f-bbc5-ceb5d2f93b7d",
   "metadata": {},
   "outputs": [],
   "source": [
    "# Load and clean geo data\n",
    "geojson = gpd.read_file('./municipality.geojson')\n",
    "ward_vdcmun_district_name_mapping = pd.read_csv('./ward_vdcmun_district_name_mapping.csv')\n",
    "ward_vdcmun_district_name_mapping['vdc'] = ward_vdcmun_district_name_mapping['vdcmun_name'].str.replace('Rural Municipality', '')\n",
    "ward_vdcmun_district_name_mapping['vdc'] = ward_vdcmun_district_name_mapping['vdc'].str.replace('Municipality', '')\n",
    "ward_vdcmun_district_name_mapping['vdc'] = ward_vdcmun_district_name_mapping['vdc'].str.replace('Sub-Metropolitan City', '')\n",
    "ward_vdcmun_district_name_mapping['vdc'] = ward_vdcmun_district_name_mapping['vdc'].str.strip()\n"
   ]
  },
  {
   "cell_type": "code",
   "execution_count": null,
   "id": "a3fdbd60-a0d7-41a0-85ef-64c67217afc3",
   "metadata": {},
   "outputs": [],
   "source": [
    "vdcs = ward_vdcmun_district_name_mapping[['vdcmun_id', 'vdc', 'district_id', 'district_name']].drop_duplicates()\n",
    "geojson.merge(vdcs, how='right', left_on='GaPa_NaPa', right_on='vdc')\n",
    "buildings = buildings.merge(vdcs, left_on='vdcmun_id_x', right_on='vdcmun_id')\n"
   ]
  },
  {
   "cell_type": "code",
   "execution_count": null,
   "id": "4913b3ba-abe5-45d0-a21b-ac7c34daee07",
   "metadata": {},
   "outputs": [],
   "source": [
    "# Choropleth of new construction\n",
    "buildings['new_construction'] = buildings['age_building'] < 10\n",
    "buildings\n",
    "new_construction = buildings[buildings['new_construction']].groupby('vdcmun_id_x').size().to_frame().reset_index()\n",
    "new_construction.rename(columns={0:'new_construction'}, inplace=True)\n",
    "new_construction\n",
    "\n",
    "# geojson2 = geojson.merge(new_construction[['vdcmun_id', 'new_construction']].drop_duplicates(), how='left', left_on=\"GaPa_NaPa\", right_on=\"vdc\")\n",
    "# geojson2['new_construction'] = geojson2['new_construction'].fillna(0)\n",
    "# geojson2.plot(column='new_construction')\n"
   ]
  },
  {
   "cell_type": "code",
   "execution_count": null,
   "id": "2d9c017e-2967-4a5f-8100-4add60420475",
   "metadata": {},
   "outputs": [],
   "source": []
  }
 ],
 "metadata": {
  "kernelspec": {
   "display_name": "Python 3 (ipykernel)",
   "language": "python",
   "name": "python3"
  },
  "language_info": {
   "codemirror_mode": {
    "name": "ipython",
    "version": 3
   },
   "file_extension": ".py",
   "mimetype": "text/x-python",
   "name": "python",
   "nbconvert_exporter": "python",
   "pygments_lexer": "ipython3",
   "version": "3.10.6"
  }
 },
 "nbformat": 4,
 "nbformat_minor": 5
}
